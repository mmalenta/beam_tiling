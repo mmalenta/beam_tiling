{
 "cells": [
  {
   "cell_type": "code",
   "execution_count": 1,
   "metadata": {},
   "outputs": [],
   "source": [
    "%matplotlib inline\n",
    "\n",
    "from matplotlib import colors\n",
    "import matplotlib.pyplot as plt\n",
    "import numpy as np\n",
    "import random"
   ]
  },
  {
   "cell_type": "code",
   "execution_count": 91,
   "metadata": {},
   "outputs": [],
   "source": [
    "class Tiling:\n",
    "    def __init__(self, _beampositions = np.zeros((1,1)), _random = False, _usebeams=396):\n",
    "        self.usebeams = _usebeams\n",
    "        self.beampositions = _beampositions\n",
    "        self.random = _random\n",
    "        \n",
    "        if self.random:\n",
    "            self.columns = 406 #random.randrange(50, 101)\n",
    "            self.rows = random.randrange(50, 101)\n",
    "            print(\"Random array with %i rows and %i columns\" % (self.rows, self.columns))\n",
    "            \n",
    "    def PlotBeams(self):\n",
    "        fig = plt.figure(figsize=(15,10))\n",
    "        ax = fig.gca()\n",
    "    \n",
    "    def PrepareMatrix(self):\n",
    "        print(\"Preparing the coverage matrix...\")\n",
    "        \n",
    "        if self.random:\n",
    "            self.coverage = np.zeros((self.rows, self.columns))\n",
    "            for row in np.arange(self.rows):\n",
    "                for column in np.arange(self.columns):\n",
    "                    self.coverage[row, column] = random.choice([0, 0, 1])\n",
    "    \n",
    "    def ShowCoverage(self):\n",
    "        print(self.coverage)\n",
    "        \n",
    "        fig = plt.figure(figsize=(15,10))\n",
    "        ax = fig.gca()\n",
    "        \n",
    "        cmap = colors.ListedColormap(['white', 'black'])\n",
    "        \n",
    "        ax.imshow(self.coverage, interpolation='none', cmap=cmap)\n",
    "    \n",
    "    \n",
    "    def Solve(self, array=None, solutions=[]):\n",
    "        print(\"Finding the optimum tiling...\")\n",
    "        \n",
    "        if array == None:\n",
    "            array = self.coverage\n",
    "        \n",
    "        if array.size != 0:\n",
    "            print(\"Coverage array is not empty...\")\n",
    "            columnsum = np.sum(array, axis=0)\n",
    "            \n",
    "            if 0 in columnsum:\n",
    "                print(\"Solution does not exist!\")\n",
    "                solutions.clear()\n",
    "                return 1\n",
    "            \n",
    "            mincolumns = np.where(columnsum == np.min(columnsum))[0]\n",
    "            choosecolumn = mincolumns[0]\n",
    "            rows = np.where(array[:, choosecolumn] == 1)\n",
    "                \n",
    "            for row in rows:\n",
    "                solutions.append(row)\n",
    "                \n",
    "                reduced = np.zeros((2,2))\n",
    "                \n",
    "                self.Solve(reduced, solutions)\n",
    "        else:\n",
    "            print(\"Coverage array is empty. We have a valid solution!\")"
   ]
  },
  {
   "cell_type": "code",
   "execution_count": 92,
   "metadata": {},
   "outputs": [
    {
     "name": "stdout",
     "output_type": "stream",
     "text": [
      "[[0. 1. 1. 0. 0. 1. 1.]\n",
      " [1. 1. 0. 0. 1. 1. 0.]\n",
      " [1. 1. 1. 0. 1. 1. 0.]\n",
      " [1. 0. 0. 1. 0. 0. 0.]\n",
      " [0. 0. 1. 1. 0. 0. 1.]]\n"
     ]
    }
   ],
   "source": [
    "testarray = np.zeros((5, 7))\n",
    "\n",
    "testarray.shape[1]\n",
    "\n",
    "for row in np.arange(testarray.shape[0]):\n",
    "    for column in np.arange(testarray.shape[1]):\n",
    "        testarray[row, column] = random.choice([0, 0, 1])\n",
    "\n",
    "print(testarray)"
   ]
  },
  {
   "cell_type": "code",
   "execution_count": 93,
   "metadata": {
    "scrolled": false
   },
   "outputs": [
    {
     "name": "stdout",
     "output_type": "stream",
     "text": [
      "Random array with 75 rows and 406 columns\n",
      "Preparing the coverage matrix...\n",
      "[[0. 0. 1. ... 1. 0. 1.]\n",
      " [0. 1. 0. ... 0. 0. 0.]\n",
      " [0. 0. 0. ... 0. 1. 0.]\n",
      " ...\n",
      " [0. 1. 0. ... 0. 1. 0.]\n",
      " [0. 0. 1. ... 1. 1. 0.]\n",
      " [1. 1. 1. ... 0. 0. 0.]]\n",
      "Finding the optimum tiling...\n",
      "Coverage array is not empty...\n",
      "Finding the optimum tiling...\n",
      "Coverage array is not empty...\n",
      "Solution does not exist!\n"
     ]
    },
    {
     "data": {
      "image/png": "[encoded data removed]",
      "text/plain": [
       "<Figure size 1080x720 with 1 Axes>"
      ]
     },
     "metadata": {},
     "output_type": "display_data"
    }
   ],
   "source": [
    "tiling = Tiling(_random=True)\n",
    "tiling.PrepareMatrix()\n",
    "tiling.ShowCoverage()\n",
    "tiling.Solve()"
   ]
  },
  {
   "cell_type": "markdown",
   "metadata": {},
   "source": [
    "<h2>Algorithm X</h2>\n",
    "<ol> \n",
    "    <li> Construct a matrix, A with <i>n</i> columns, where <i>n</i> is the sum of the number of elements used to cover the field and the number of cells to be covered - this ensures we have a way of identifying which elements cover which fields - this is not 100% necessary if we're using a single shape only. In our case we do not need to worry about the exact coverage of the elements columns - we are going to use the same shape more than one - only one shape in the most extreme cases.</li>\n",
    "    <li> Construct rows use to represent all possible valid positions of the covering elements - 1 in the column identifying the piece and 1s in all the columns identifying cells covered by given element.</li>\n",
    "    <li> Look for solutions that have exaclty one 1 in each column, i.e. each cell is covered by one element only and there are no overlapping elements.</li>\n",
    "    <ol> \n",
    "        <li>If matrix A is empty (all 0s) - problem solved, terminate successfully</li>\n",
    "        <li>Deterministically choose column, c - chooce column which has the fewest 1s, leading to the lowest number of branches in laters stages of the algorithm</li>\n",
    "        <li>Nondeterministically chooise a row, r such that A[r, c] = 1 - this is the place where the algorithm splits into small subalgorithms</li>\n",
    "        <li>Include r in the partial solution</li>\n",
    "        <li>Choose all the columns, j such that A[r, j] = 1 - this selects columns that are solved by the currently selected row, r\n",
    "        <li>Select all the rows, i for each of the columns, j such that A[i, j] = 1 - this selects rows that contain 1s in columns already solved by row r.\n",
    "        <li>Delete all the columns j and rows i (this includes the deterministically chosen row, r in the step above) - this removes columns that have already been solved by row r and rows that cover the columns already covered by row r - we make sure we cover each cell only once.\n",
    "        <li>Repeat the algorithm recursively on the reduced matrix A (with columns and rows removed in the step above) - go back to the first step with checking whether the remaining matrix is empty.\n",
    "    </ol>\n",
    "</ol>"
   ]
  },
  {
   "cell_type": "markdown",
   "metadata": {},
   "source": [
    "<h2>Some optimisation ideas for Algorithm X</h2>\n",
    "<ul>\n",
    "    <li> First check if there are any columns that are all filled with 0s - that means there is no cover for that column and we can't get exact coverage - in this case we can remove this column and other columns with zero coverage down to the prescribed number of beams which we HAVE to use, e.g. 396 for MeerTRAP</li>\n",
    "    <li> \n",
    "</ul>"
   ]
  },
  {
   "cell_type": "code",
   "execution_count": 57,
   "metadata": {},
   "outputs": [
    {
     "name": "stdout",
     "output_type": "stream",
     "text": [
      "[2. 5. 1. 1. 2. 2. 2.]\n",
      "[2 3]\n",
      "2\n",
      "[4]\n"
     ]
    }
   ],
   "source": [
    "column_sums = np.sum(testarray, axis=0)\n",
    "print(column_sums)\n",
    "columns = np.where(column_sums == np.amin(column_sums))[0]\n",
    "print(columns)\n",
    "print(columns[0])\n",
    "\n",
    "rows = np.where(testarray[:, columns[0]] == 1)[0]\n",
    "\n",
    "print(rows)\n",
    "\n",
    "if 0 in column_sums:\n",
    "    print(\"Solution does not exist\")"
   ]
  },
  {
   "cell_type": "code",
   "execution_count": null,
   "metadata": {},
   "outputs": [],
   "source": []
  }
 ],
 "metadata": {
  "kernelspec": {
   "display_name": "Python 3",
   "language": "python",
   "name": "python3"
  },
  "language_info": {
   "codemirror_mode": {
    "name": "ipython",
    "version": 3
   },
   "file_extension": ".py",
   "mimetype": "text/x-python",
   "name": "python",
   "nbconvert_exporter": "python",
   "pygments_lexer": "ipython3",
   "version": "3.6.5"
  }
 },
 "nbformat": 4,
 "nbformat_minor": 2
}
