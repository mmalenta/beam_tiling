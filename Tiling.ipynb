{
 "cells": [
  {
   "cell_type": "markdown",
   "metadata": {},
   "source": [
    "<h2>Algorithm X</h2>\n",
    "<ol> \n",
    "    <li> Construct a matrix, A with <i>n</i> columns, where <i>n</i> is the sum of the number of elements used to cover the field and the number of cells to be covered - this ensures we have a way of identifying which elements cover which fields - this is not 100% necessary if we're using a single shape only. In our case we do not need to worry about the exact coverage of the elements columns - we are going to use the same shape more than one - only one shape in the most extreme cases.</li>\n",
    "    <li> Construct rows use to represent all possible valid positions of the covering elements - 1 in the column identifying the piece and 1s in all the columns identifying cells covered by given element.</li>\n",
    "    <li> Look for solutions that have exaclty one 1 in each column, i.e. each cell is covered by one element only and there are no overlapping elements.</li>\n",
    "    <ol> \n",
    "        <li>If matrix A is empty (all 0s) - problem solved, terminate successfully</li>\n",
    "        <li>Deterministically choose column, c - chooce column which has the fewest 1s, leading to the lowest number of branches in laters stages of the algorithm</li>\n",
    "        <li>Nondeterministically chooise a row, r such that A[r, c] = 1 - this is the place where the algorithm splits into small subalgorithms</li>\n",
    "        <li>Include r in the partial solution</li>\n",
    "        <li>Choose all the columns, j such that A[r, j] = 1 - this selects columns that are solved by the currently selected row, r\n",
    "        <li>Select all the rows, i for each of the columns, j such that A[i, j] = 1 - this selects rows that contain 1s in columns already solved by row r.\n",
    "        <li>Delete all the columns j and rows i (this includes the deterministically chosen row, r in the step above) - this removes columns that have already been solved by row r and rows that cover the columns already covered by row r - we make sure we cover each cell only once.\n",
    "        <li>Repeat the algorithm recursively on the reduced matrix A (with columns and rows removed in the step above) - go back to the first step with checking whether the remaining matrix is empty.\n",
    "    </ol>\n",
    "</ol>"
   ]
  },
  {
   "cell_type": "markdown",
   "metadata": {},
   "source": [
    "<h2>To-do list</h2>\n",
    "<ul>\n",
    "    <li> Algorithm stops after the first solution is found - we will have a case where at least tens of solutions are valid and don't want to go through all of them\n",
    "</ul>"
   ]
  },
  {
   "cell_type": "code",
   "execution_count": 12,
   "metadata": {},
   "outputs": [],
   "source": [
    "%matplotlib inline\n",
    "\n",
    "from matplotlib import colors\n",
    "import matplotlib.pyplot as plt\n",
    "import numpy as np\n",
    "import random\n",
    "import scipy.signal as ssignal"
   ]
  },
  {
   "cell_type": "code",
   "execution_count": 2,
   "metadata": {},
   "outputs": [],
   "source": [
    "class Tiling:\n",
    "    def __init__(self, _beampositions = np.zeros((1,1)), _random = False, _usebeams=396):\n",
    "        self.usebeams = _usebeams\n",
    "        self.beampositions = _beampositions\n",
    "        self.random = _random\n",
    "        self.solution = []\n",
    "        \n",
    "        if self.random:\n",
    "            #self.columns = random.randrange(50,100)\n",
    "            #self.rows = random.randrange(50, 100)\n",
    "            \n",
    "            self.columns = 406\n",
    "            self.rows = 812\n",
    "            \n",
    "            print(\"Random array with %i rows and %i columns\" % (self.rows, self.columns))\n",
    "            \n",
    "    def PlotBeams(self):\n",
    "        fig = plt.figure(figsize=(15,10))\n",
    "        ax = fig.gca()\n",
    "    \n",
    "    def PrepareCoverage(self):\n",
    "        print(\"Preparing the coverage matrix...\")\n",
    "        \n",
    "        if self.random:\n",
    "            self.coverage = np.zeros((self.rows, self.columns))\n",
    "            for row in np.arange(self.rows):\n",
    "                for column in np.arange(self.columns):\n",
    "                    self.coverage[row, column] = random.choice([0, 0, 0, 0, 0, 0, 0, 0, 0, 1])\n",
    "                    \n",
    "        self.columnids = np.arange(self.coverage.shape[1])\n",
    "        self.rowids = np.arange(self.coverage.shape[0])\n",
    "    \n",
    "    def SetCoverage(self, _coverage):\n",
    "        \n",
    "        self.coverage = np.copy(_coverage)\n",
    "        self.columnids = np.arange(self.coverage.shape[1])\n",
    "        self.rowids = np.arange(self.coverage.shape[0])\n",
    "    \n",
    "    def ShowCoverage(self):\n",
    "        print(self.coverage)\n",
    "        \n",
    "        fig = plt.figure(figsize=(15,10))\n",
    "        ax = fig.gca()\n",
    "        \n",
    "        cmap = colors.ListedColormap(['white', 'black'])\n",
    "        \n",
    "        self.coverageimage = ax.imshow(self.coverage, aspect='equal', interpolation='none', cmap=cmap)\n",
    "    \n",
    "    ### REMEMBER TO SKIP THE FIRST COLUMN IN ALL CALCULATIONS - IT CONTAINS THE ORIGINAL ROW INDICES!! ###\n",
    "    \n",
    "    def ShowSolution(self):\n",
    "        \n",
    "        fig = plt.figure(figsize=(15,10))\n",
    "        ax = fig.gca()\n",
    "        cmap = colors.ListedColormap(['white', 'black'])\n",
    "        ax.imshow(self.coverage[sorted(self.solution), :], aspect='equal', interpolation='none', cmap=cmap)\n",
    "        ax.set_yticks(np.arange(len(self.solution)))\n",
    "        ax.set_yticklabels(sorted(self.solution))\n",
    "    \n",
    "    def Solve(self, array, columnids, rowids):\n",
    "        print(\"Finding the optimum tiling...\")\n",
    "        \n",
    "        print(\"Current partial solution: \", self.solution)\n",
    "        \n",
    "        if columnids.size != 0:\n",
    "            print(\"Array is not empty...\")\n",
    "            \n",
    "            columnsum = np.sum(array, axis=0)\n",
    "            \n",
    "            if 0 in columnsum:\n",
    "                # This violates part C of algorithm - A[r,c] should have 1 in it and not 0\n",
    "                print(\"Solution does not exist!\")\n",
    "                print(\"\\n\\n\")\n",
    "\n",
    "            else:\n",
    "\n",
    "                mincolumns = np.where(columnsum == np.min(columnsum))[0]\n",
    "                choosecolumn = mincolumns[0]\n",
    "                rows = np.where(array[:, choosecolumn] == 1)[0]\n",
    "                \n",
    "                for row in rows:\n",
    "\n",
    "                    print(\"Working with row \", rowids[row])\n",
    "\n",
    "                    self.solution.append(rowids[row])\n",
    "\n",
    "                    solvedcolumns = np.where(array[row, :] == 1)[0]\n",
    "                    print(\"Colums solved \", solvedcolumns)\n",
    "\n",
    "                    solvingrows = np.unique(np.where(array[:, solvedcolumns] == 1)[0])\n",
    "                    print(\"Rows that solve these columns \", solvingrows)\n",
    "\n",
    "                    reduced = np.delete(np.delete(array, solvedcolumns, axis=1), solvingrows, axis=0)\n",
    "                    reducedcolumnids = np.delete(columnids, solvedcolumns, axis=0)\n",
    "                    reducedrowids = np.delete(rowids, solvingrows, axis=0)\n",
    "\n",
    "                    print(\"Reduced array \", reduced)\n",
    "                    self.Solve(reduced, reducedcolumnids.copy(), reducedrowids.copy())\n",
    "\n",
    "                    if self.solution:\n",
    "                        self.solution.pop()\n",
    "\n",
    "        else:\n",
    "            print(\"Coverage array is empty. We have a valid solution!\")\n",
    "            print(\"Solving rows \", self.solution)\n",
    "            print(\"\\n\")\n",
    "            print(\"Solution: \")\n",
    "            self.ShowSolution()"
   ]
  },
  {
   "cell_type": "code",
   "execution_count": 3,
   "metadata": {},
   "outputs": [
    {
     "name": "stdout",
     "output_type": "stream",
     "text": [
      "[[0. 0. 1. 0. 0. 1. 0. 0.]\n",
      " [1. 1. 0. 0. 0. 0. 1. 0.]\n",
      " [0. 0. 0. 0. 1. 0. 0. 0.]\n",
      " [0. 0. 0. 0. 1. 1. 1. 1.]\n",
      " [0. 0. 1. 0. 0. 0. 1. 1.]]\n"
     ]
    }
   ],
   "source": [
    "testarray = np.zeros((5, 8))\n",
    "\n",
    "testarray.shape[1]\n",
    "\n",
    "for row in np.arange(testarray.shape[0]):\n",
    "    for column in np.arange(testarray.shape[1]):\n",
    "        testarray[row, column] = random.choice([0, 0, 1])\n",
    "\n",
    "print(testarray)"
   ]
  },
  {
   "cell_type": "code",
   "execution_count": 29,
   "metadata": {},
   "outputs": [
    {
     "name": "stdout",
     "output_type": "stream",
     "text": [
      "[[0. 0. 1. 0. 1. 1. 0.]\n",
      " [1. 0. 0. 1. 0. 0. 1.]\n",
      " [0. 1. 1. 0. 0. 1. 0.]\n",
      " [1. 0. 0. 1. 0. 0. 0.]\n",
      " [0. 1. 0. 0. 0. 0. 1.]\n",
      " [0. 0. 0. 1. 1. 0. 1.]]\n"
     ]
    }
   ],
   "source": [
    "\n",
    "\n",
    "### 0 3 4 is a solution\n",
    "#'''\n",
    "testarray = np.zeros((6, 7))\n",
    "testarray[0, :] = [0, 0, 1, 0, 1, 1, 0]\n",
    "testarray[1, :] = [1, 0, 0, 1, 0, 0, 1]\n",
    "testarray[2, :] = [0, 1, 1, 0, 0, 1, 0]\n",
    "testarray[3, :] = [1, 0, 0, 1, 0, 0, 0]\n",
    "testarray[4, :] = [0, 1, 0, 0, 0, 0, 1]\n",
    "testarray[5, :] = [0, 0, 0, 1, 1, 0, 1]\n",
    "#'''\n",
    "\n",
    "### 1 3 5 is a solution\n",
    "\n",
    "'''\n",
    "testarray = np.zeros((6, 7))\n",
    "testarray[0, :] = [1, 0, 0, 1, 0, 0, 1]\n",
    "testarray[1, :] = [1, 0, 0, 1, 0, 0, 0]\n",
    "testarray[2, :] = [0, 0, 0, 1, 1, 0, 1]\n",
    "testarray[3, :] = [0, 0, 1, 0, 1, 1, 0]\n",
    "testarray[4, :] = [0, 1, 1, 0, 0, 1, 1]\n",
    "testarray[5, :] = [0, 1, 0, 0, 0, 0, 1]\n",
    "'''\n",
    "#testarray[:, 0] = np.arange(testarray.shape[0])\n",
    "#testarray[0, :] = np.arange(testarray.shape[1])\n",
    "\n",
    "print(testarray)\n"
   ]
  },
  {
   "cell_type": "code",
   "execution_count": 5,
   "metadata": {},
   "outputs": [],
   "source": [
    "#testarray = np.zeros((12,10))\n",
    "#np.fill_diagonal(testarray, 1, wrap=True)"
   ]
  },
  {
   "cell_type": "code",
   "execution_count": 30,
   "metadata": {
    "scrolled": false
   },
   "outputs": [
    {
     "name": "stdout",
     "output_type": "stream",
     "text": [
      "[[0. 0. 1. 0. 1. 1. 0.]\n",
      " [1. 0. 0. 1. 0. 0. 1.]\n",
      " [0. 1. 1. 0. 0. 1. 0.]\n",
      " [1. 0. 0. 1. 0. 0. 0.]\n",
      " [0. 1. 0. 0. 0. 0. 1.]\n",
      " [0. 0. 0. 1. 1. 0. 1.]]\n"
     ]
    },
    {
     "data": {
      "image/png": "[encoded data removed]",
      "text/plain": [
       "<Figure size 1080x720 with 1 Axes>"
      ]
     },
     "metadata": {},
     "output_type": "display_data"
    }
   ],
   "source": [
    "tiling = Tiling(_random=False)\n",
    "#tiling.PrepareCoverage()\n",
    "tiling.SetCoverage(testarray)\n",
    "tiling.ShowCoverage()\n"
   ]
  },
  {
   "cell_type": "code",
   "execution_count": 31,
   "metadata": {
    "scrolled": false
   },
   "outputs": [
    {
     "name": "stdout",
     "output_type": "stream",
     "text": [
      "Finding the optimum tiling...\n",
      "Current partial solution:  []\n",
      "Array is not empty...\n",
      "Working with row  1\n",
      "Colums solved  [0 3 6]\n",
      "Rows that solve these columns  [1 3 4 5]\n",
      "Reduced array  [[0. 1. 1. 1.]\n",
      " [1. 1. 0. 1.]]\n",
      "Finding the optimum tiling...\n",
      "Current partial solution:  [1]\n",
      "Array is not empty...\n",
      "Working with row  2\n",
      "Colums solved  [0 1 3]\n",
      "Rows that solve these columns  [0 1]\n",
      "Reduced array  []\n",
      "Finding the optimum tiling...\n",
      "Current partial solution:  [1, 2]\n",
      "Array is not empty...\n",
      "Solution does not exist!\n",
      "\n",
      "\n",
      "\n",
      "Working with row  3\n",
      "Colums solved  [0 3]\n",
      "Rows that solve these columns  [1 3 5]\n",
      "Reduced array  [[0. 1. 1. 1. 0.]\n",
      " [1. 1. 0. 1. 0.]\n",
      " [1. 0. 0. 0. 1.]]\n",
      "Finding the optimum tiling...\n",
      "Current partial solution:  [3]\n",
      "Array is not empty...\n",
      "Working with row  0\n",
      "Colums solved  [1 2 3]\n",
      "Rows that solve these columns  [0 1]\n",
      "Reduced array  [[1. 1.]]\n",
      "Finding the optimum tiling...\n",
      "Current partial solution:  [3, 0]\n",
      "Array is not empty...\n",
      "Working with row  4\n",
      "Colums solved  [0 1]\n",
      "Rows that solve these columns  [0]\n",
      "Reduced array  []\n",
      "Finding the optimum tiling...\n",
      "Current partial solution:  [3, 0, 4]\n",
      "Coverage array is empty. We have a valid solution!\n",
      "Solving rows  [3, 0, 4]\n",
      "\n",
      "\n",
      "Solution: \n"
     ]
    },
    {
     "data": {
      "image/png": "[encoded data removed]",
      "text/plain": [
       "<Figure size 1080x720 with 1 Axes>"
      ]
     },
     "metadata": {},
     "output_type": "display_data"
    }
   ],
   "source": [
    "tiling.Solve(tiling.coverage, tiling.columnids, tiling.rowids)"
   ]
  },
  {
   "cell_type": "code",
   "execution_count": 8,
   "metadata": {},
   "outputs": [
    {
     "name": "stdout",
     "output_type": "stream",
     "text": [
      "[1. 1. 1. 1. 1. 1. 1. 1. 1.]\n",
      "[0 1 2 3 4 5 6 7 8]\n",
      "0\n",
      "[1]\n",
      "Looking at row 1 now...\n",
      "Solved columns [1]\n",
      "Solving rows [1]\n",
      "[[1. 0. 0. 0. 0. 0. 0. 0. 0.]\n",
      " [0. 1. 0. 0. 0. 0. 0. 0. 0.]\n",
      " [0. 0. 1. 0. 0. 0. 0. 0. 0.]\n",
      " [0. 0. 0. 1. 0. 0. 0. 0. 0.]\n",
      " [0. 0. 0. 0. 1. 0. 0. 0. 0.]\n",
      " [0. 0. 0. 0. 0. 1. 0. 0. 0.]\n",
      " [0. 0. 0. 0. 0. 0. 1. 0. 0.]\n",
      " [0. 0. 0. 0. 0. 0. 0. 1. 0.]\n",
      " [0. 0. 0. 0. 0. 0. 0. 0. 1.]\n",
      " [0. 0. 0. 0. 0. 0. 0. 0. 0.]\n",
      " [1. 0. 0. 0. 0. 0. 0. 0. 0.]]\n",
      "[[1. 0. 0. 0. 0. 0. 0. 0. 0.]\n",
      " [0. 1. 0. 0. 0. 0. 0. 0. 0.]\n",
      " [0. 0. 1. 0. 0. 0. 0. 0. 0.]\n",
      " [0. 0. 0. 1. 0. 0. 0. 0. 0.]\n",
      " [0. 0. 0. 0. 1. 0. 0. 0. 0.]\n",
      " [0. 0. 0. 0. 0. 1. 0. 0. 0.]\n",
      " [0. 0. 0. 0. 0. 0. 1. 0. 0.]\n",
      " [0. 0. 0. 0. 0. 0. 0. 1. 0.]\n",
      " [0. 0. 0. 0. 0. 0. 0. 0. 1.]\n",
      " [0. 0. 0. 0. 0. 0. 0. 0. 0.]\n",
      " [1. 0. 0. 0. 0. 0. 0. 0. 0.]]\n"
     ]
    }
   ],
   "source": [
    "column_sums = np.sum(testarray[:, 1:], axis=0)\n",
    "print(column_sums)\n",
    "columns = np.where(column_sums == np.amin(column_sums))[0]\n",
    "print(columns)\n",
    "print(columns[0])\n",
    "\n",
    "rows = np.where(testarray[:, columns[0] + 1] == 1)[0]\n",
    "\n",
    "print(rows)\n",
    "\n",
    "for row in rows:\n",
    "    print(\"Looking at row %d now...\" % row)\n",
    "    solvedcolumns = np.where(testarray[row, 1:] == 1)[0] + 1\n",
    "    print(\"Solved columns\", solvedcolumns)\n",
    "\n",
    "    solvingrows = np.unique(np.where(testarray[:, solvedcolumns] == 1)[0])\n",
    "    print(\"Solving rows\", solvingrows)\n",
    "    \n",
    "    tmp = np.delete(testarray, solvedcolumns, axis=1)\n",
    "    tmp2 = np.delete(tmp, solvingrows, axis=0)\n",
    "    \n",
    "    solution = np.delete(np.delete(testarray, solvedcolumns, axis=1), solvingrows, axis=0)\n",
    "    \n",
    "print(tmp2)\n",
    "print(solution)\n",
    "if 0 in column_sums:\n",
    "    print(\"Solution does not exist\")"
   ]
  },
  {
   "cell_type": "code",
   "execution_count": 9,
   "metadata": {},
   "outputs": [
    {
     "data": {
      "text/plain": [
       "array([2., 2., 2.])"
      ]
     },
     "execution_count": 9,
     "metadata": {},
     "output_type": "execute_result"
    }
   ],
   "source": [
    "testarray = np.ones((2,3))\n",
    "np.sum(testarray, axis=0)"
   ]
  },
  {
   "cell_type": "code",
   "execution_count": 10,
   "metadata": {},
   "outputs": [
    {
     "data": {
      "text/plain": [
       "array([0., 0., 0.])"
      ]
     },
     "execution_count": 10,
     "metadata": {},
     "output_type": "execute_result"
    }
   ],
   "source": [
    "np.sum(np.delete(testarray, [0, 1], axis=0), axis=0)"
   ]
  },
  {
   "cell_type": "code",
   "execution_count": 11,
   "metadata": {},
   "outputs": [
    {
     "name": "stdout",
     "output_type": "stream",
     "text": [
      "[0, 1, 2, 3]\n",
      "[0, 1, 2, 3, 4]\n",
      "[0, 1, 2, 3]\n"
     ]
    }
   ],
   "source": [
    "mylist = [0, 1, 2, 3]\n",
    "print(mylist)\n",
    "mylist.append(4)\n",
    "print(mylist)\n",
    "mylist.pop()\n",
    "print(mylist)"
   ]
  },
  {
   "cell_type": "code",
   "execution_count": 32,
   "metadata": {},
   "outputs": [
    {
     "data": {
      "text/plain": [
       "<matplotlib.colorbar.Colorbar at 0x7feddd99e8d0>"
      ]
     },
     "execution_count": 32,
     "metadata": {},
     "output_type": "execute_result"
    },
    {
     "data": {
      "image/png": "[encoded data removed]",
      "text/plain": [
       "<Figure size 1080x720 with 1 Axes>"
      ]
     },
     "metadata": {},
     "output_type": "display_data"
    },
    {
     "data": {
      "image/png": "[encoded data removed]",
      "text/plain": [
       "<Figure size 1080x720 with 2 Axes>"
      ]
     },
     "metadata": {},
     "output_type": "display_data"
    }
   ],
   "source": [
    "testcoverage = np.ones((25, 20))\n",
    "testcoverage[:, 0:2] = 0\n",
    "testcoverage[:, -2:] = 0\n",
    "testcoverage[0:2, :] = 0\n",
    "testcoverage[-2:, :] = 0\n",
    "\n",
    "testshape = np.ones((2,2))\n",
    "\n",
    "fig = plt.figure(figsize=(15,10))\n",
    "ax = fig.gca()\n",
    "\n",
    "cmap = colors.ListedColormap(['white', 'black'])\n",
    "ax.imshow(testcoverage, aspect='equal', interpolation='none', cmap=cmap)\n",
    "     \n",
    "    \n",
    "testconvolved = ssignal.convolve2d(testcoverage, testshape) #, testshape)\n",
    "\n",
    "fig = plt.figure(figsize=(15,10))\n",
    "ax = fig.gca()\n",
    "\n",
    "cmap2 = colors.ListedColormap(['white', 'silver', 'grey', 'black'])\n",
    "\n",
    "conv = ax.imshow(testconvolved, aspect='equal', interpolation='none', cmap=cmap2)\n",
    "fig.colorbar(conv, ax=ax)"
   ]
  },
  {
   "cell_type": "code",
   "execution_count": 38,
   "metadata": {},
   "outputs": [
    {
     "data": {
      "text/plain": [
       "<matplotlib.collections.PathCollection at 0x7feddda329e8>"
      ]
     },
     "execution_count": 38,
     "metadata": {},
     "output_type": "execute_result"
    },
    {
     "data": {
      "image/png": "[encoded data removed]",
      "text/plain": [
       "<Figure size 1080x1080 with 1 Axes>"
      ]
     },
     "metadata": {},
     "output_type": "display_data"
    }
   ],
   "source": [
    "testbeams = np.loadtxt('test_beams.dat', delimiter='\\t')\n",
    "\n",
    "fig = plt.figure(figsize=(15,15))\n",
    "ax = fig.gca()\n",
    "\n",
    "ax.scatter(testbeams[:, 0], testbeams[:, 1])"
   ]
  },
  {
   "cell_type": "code",
   "execution_count": null,
   "metadata": {},
   "outputs": [],
   "source": []
  },
  {
   "cell_type": "code",
   "execution_count": null,
   "metadata": {},
   "outputs": [],
   "source": []
  }
 ],
 "metadata": {
  "kernelspec": {
   "display_name": "Python 3",
   "language": "python",
   "name": "python3"
  },
  "language_info": {
   "codemirror_mode": {
    "name": "ipython",
    "version": 3
   },
   "file_extension": ".py",
   "mimetype": "text/x-python",
   "name": "python",
   "nbconvert_exporter": "python",
   "pygments_lexer": "ipython3",
   "version": "3.6.5"
  }
 },
 "nbformat": 4,
 "nbformat_minor": 2
}
