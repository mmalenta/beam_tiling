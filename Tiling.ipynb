{
 "cells": [
  {
   "cell_type": "markdown",
   "metadata": {},
   "source": [
    "<h2>Algorithm X</h2>\n",
    "<ol> \n",
    "    <li> Construct a matrix, A with <i>n</i> columns, where <i>n</i> is the sum of the number of elements used to cover the field and the number of cells to be covered - this ensures we have a way of identifying which elements cover which fields - this is not 100% necessary if we're using a single shape only. In our case we do not need to worry about the exact coverage of the elements columns - we are going to use the same shape more than one - only one shape in the most extreme cases.</li>\n",
    "    <li> Construct rows use to represent all possible valid positions of the covering elements - 1 in the column identifying the piece and 1s in all the columns identifying cells covered by given element.</li>\n",
    "    <li> Look for solutions that have exaclty one 1 in each column, i.e. each cell is covered by one element only and there are no overlapping elements.</li>\n",
    "    <ol> \n",
    "        <li>If matrix A is empty (all 0s) - problem solved, terminate successfully</li>\n",
    "        <li>Deterministically choose column, c - chooce column which has the fewest 1s, leading to the lowest number of branches in laters stages of the algorithm</li>\n",
    "        <li>Nondeterministically chooise a row, r such that A[r, c] = 1 - this is the place where the algorithm splits into small subalgorithms</li>\n",
    "        <li>Include r in the partial solution</li>\n",
    "        <li>Choose all the columns, j such that A[r, j] = 1 - this selects columns that are solved by the currently selected row, r\n",
    "        <li>Select all the rows, i for each of the columns, j such that A[i, j] = 1 - this selects rows that contain 1s in columns already solved by row r.\n",
    "        <li>Delete all the columns j and rows i (this includes the deterministically chosen row, r in the step above) - this removes columns that have already been solved by row r and rows that cover the columns already covered by row r - we make sure we cover each cell only once.\n",
    "        <li>Repeat the algorithm recursively on the reduced matrix A (with columns and rows removed in the step above) - go back to the first step with checking whether the remaining matrix is empty.\n",
    "    </ol>\n",
    "</ol>"
   ]
  },
  {
   "cell_type": "code",
   "execution_count": 1,
   "metadata": {},
   "outputs": [],
   "source": [
    "%matplotlib inline\n",
    "\n",
    "from matplotlib import colors\n",
    "import matplotlib.pyplot as plt\n",
    "import numpy as np\n",
    "import random"
   ]
  },
  {
   "cell_type": "code",
   "execution_count": 125,
   "metadata": {},
   "outputs": [],
   "source": [
    "class Tiling:\n",
    "    def __init__(self, _beampositions = np.zeros((1,1)), _random = False, _usebeams=396):\n",
    "        self.usebeams = _usebeams\n",
    "        self.beampositions = _beampositions\n",
    "        self.random = _random\n",
    "        self.solution = []\n",
    "        \n",
    "        if self.random:\n",
    "            self.columns = random.randrange(10,50)\n",
    "            self.rows = random.randrange(10, 50)\n",
    "            print(\"Random array with %i rows and %i columns\" % (self.rows, self.columns))\n",
    "            \n",
    "    def PlotBeams(self):\n",
    "        fig = plt.figure(figsize=(15,10))\n",
    "        ax = fig.gca()\n",
    "    \n",
    "    def PrepareCoverage(self):\n",
    "        print(\"Preparing the coverage matrix...\")\n",
    "        \n",
    "        if self.random:\n",
    "            self.coverage = np.zeros((self.rows, self.columns))\n",
    "            for row in np.arange(self.rows):\n",
    "                for column in np.arange(self.columns):\n",
    "                    self.coverage[row, column] = random.choice([0, 0, 1])\n",
    "                    \n",
    "        self.columnids = np.arange(self.coverage.shape[1])\n",
    "        self.rowids = np.arange(self.coverage.shape[0])\n",
    "    \n",
    "    def SetCoverage(self, _coverage):\n",
    "        \n",
    "        self.coverage = np.copy(_coverage)\n",
    "        self.columnids = np.arange(self.coverage.shape[1])\n",
    "        self.rowids = np.arange(self.coverage.shape[0])\n",
    "    \n",
    "    def ShowCoverage(self):\n",
    "        print(self.coverage)\n",
    "        \n",
    "        fig = plt.figure(figsize=(15,10))\n",
    "        ax = fig.gca()\n",
    "        \n",
    "        cmap = colors.ListedColormap(['white', 'black'])\n",
    "        \n",
    "        ax.imshow(self.coverage, interpolation='none', cmap=cmap)\n",
    "    \n",
    "    ### REMEMBER TO SKIP THE FIRST COLUMN IN ALL CALCULATIONS - IT CONTAINS THE ORIGINAL ROW INDICES!! ###\n",
    "    \n",
    "    def PlotSolution(self):\n",
    "        \n",
    "        fig = plt.figure(figsize=(15,10))\n",
    "        ax = fig.gca()\n",
    "        cmap = colors.ListedColormap(['white', 'black'])\n",
    "        ax.imshow(self.coverage[sorted(self.solution), :], interpolation='none', cmap=cmap)\n",
    "        ax.set_yticks(np.arange(len(self.solution)))\n",
    "        ax.set_yticklabels(sorted(self.solution))\n",
    "    \n",
    "    def Solve(self, array, columnids, rowids):\n",
    "        print(\"Finding the optimum tiling...\")\n",
    "        \n",
    "        print(\"Current partial solution: \", self.solution)\n",
    "        \n",
    "        if columnids.size != 0:\n",
    "            print(\"Array is not empty...\")\n",
    "            \n",
    "            columnsum = np.sum(array, axis=0)\n",
    "            \n",
    "            if 0 in columnsum:\n",
    "                # This violates part C of algorithm - A[r,c] should have 1 in it and not 0\n",
    "                print(\"Solution does not exist!\")\n",
    "                print(\"\\n\\n\")\n",
    "                self.solution.pop()\n",
    "                \n",
    "            \n",
    "            mincolumns = np.where(columnsum == np.min(columnsum))[0]\n",
    "            choosecolumn = mincolumns[0]\n",
    "            rows = np.where(array[:, choosecolumn] == 1)[0]\n",
    "                \n",
    "            for row in rows:\n",
    "                \n",
    "                print(\"Working with row \", rowids[row])\n",
    "                \n",
    "                self.solution.append(rowids[row])\n",
    "                \n",
    "                solvedcolumns = np.where(array[row, :] == 1)[0]\n",
    "                print(\"Colums solved \", solvedcolumns)\n",
    "                \n",
    "                solvingrows = np.unique(np.where(array[:, solvedcolumns] == 1)[0])\n",
    "                print(\"Rows that solve these columns \", solvingrows)\n",
    "                \n",
    "                reduced = np.delete(np.delete(array, solvedcolumns, axis=1), solvingrows, axis=0)\n",
    "                reducedcolumnids = np.delete(columnids, solvedcolumns, axis=0)\n",
    "                reducedrowids = np.delete(rowids, solvingrows, axis=0)\n",
    "                \n",
    "                print(\"Reduced array \", reduced)\n",
    "                self.Solve(reduced, reducedcolumnids.copy(), reducedrowids.copy())\n",
    "                \n",
    "                if self.solution:\n",
    "                    self.solution.pop()\n",
    "                \n",
    "        else:\n",
    "            print(\"Coverage array is empty. We have a valid solution!\")\n",
    "            print(\"Solving rows \", self.solution)\n",
    "            print(\"\\n\")\n",
    "            print(\"Solution: \")\n",
    "            self.PlotSolution()"
   ]
  },
  {
   "cell_type": "code",
   "execution_count": 126,
   "metadata": {},
   "outputs": [
    {
     "name": "stdout",
     "output_type": "stream",
     "text": [
      "[[1. 0. 1. 0. 0. 0. 0. 0.]\n",
      " [0. 0. 0. 0. 0. 1. 1. 1.]\n",
      " [1. 0. 1. 0. 1. 0. 0. 1.]\n",
      " [0. 0. 1. 0. 0. 0. 0. 1.]\n",
      " [1. 1. 1. 0. 0. 1. 1. 0.]]\n"
     ]
    }
   ],
   "source": [
    "testarray = np.zeros((5, 8))\n",
    "\n",
    "testarray.shape[1]\n",
    "\n",
    "for row in np.arange(testarray.shape[0]):\n",
    "    for column in np.arange(testarray.shape[1]):\n",
    "        testarray[row, column] = random.choice([0, 0, 1])\n",
    "\n",
    "print(testarray)"
   ]
  },
  {
   "cell_type": "code",
   "execution_count": 127,
   "metadata": {},
   "outputs": [
    {
     "name": "stdout",
     "output_type": "stream",
     "text": [
      "[[0. 0. 1. 0. 1. 1. 0.]\n",
      " [1. 0. 0. 1. 0. 0. 1.]\n",
      " [0. 1. 1. 0. 0. 1. 0.]\n",
      " [1. 0. 0. 1. 0. 0. 0.]\n",
      " [0. 1. 0. 0. 0. 0. 1.]\n",
      " [0. 0. 0. 1. 1. 0. 1.]]\n"
     ]
    }
   ],
   "source": [
    "\n",
    "\n",
    "### 0 3 4 is a solution\n",
    "#'''\n",
    "testarray = np.zeros((6, 7))\n",
    "testarray[0, :] = [0, 0, 1, 0, 1, 1, 0]\n",
    "testarray[1, :] = [1, 0, 0, 1, 0, 0, 1]\n",
    "testarray[2, :] = [0, 1, 1, 0, 0, 1, 0]\n",
    "testarray[3, :] = [1, 0, 0, 1, 0, 0, 0]\n",
    "testarray[4, :] = [0, 1, 0, 0, 0, 0, 1]\n",
    "testarray[5, :] = [0, 0, 0, 1, 1, 0, 1]\n",
    "#'''\n",
    "\n",
    "### 1 3 5 is a solution\n",
    "\n",
    "'''\n",
    "testarray = np.zeros((6, 7))\n",
    "testarray[0, :] = [1, 0, 0, 1, 0, 0, 1]\n",
    "testarray[1, :] = [1, 0, 0, 1, 0, 0, 0]\n",
    "testarray[2, :] = [0, 0, 0, 1, 1, 0, 1]\n",
    "testarray[3, :] = [0, 0, 1, 0, 1, 1, 0]\n",
    "testarray[4, :] = [0, 1, 1, 0, 0, 1, 1]\n",
    "testarray[5, :] = [0, 1, 0, 0, 0, 0, 1]\n",
    "'''\n",
    "#testarray[:, 0] = np.arange(testarray.shape[0])\n",
    "#testarray[0, :] = np.arange(testarray.shape[1])\n",
    "\n",
    "print(testarray)\n"
   ]
  },
  {
   "cell_type": "code",
   "execution_count": 130,
   "metadata": {
    "scrolled": false
   },
   "outputs": [
    {
     "name": "stdout",
     "output_type": "stream",
     "text": [
      "Random array with 30 rows and 30 columns\n",
      "Preparing the coverage matrix...\n",
      "[[0. 1. 0. 1. 1. 0. 0. 0. 0. 1. 0. 1. 0. 0. 0. 0. 0. 0. 0. 1. 1. 0. 0. 0.\n",
      "  0. 1. 0. 1. 0. 0.]\n",
      " [0. 0. 1. 0. 0. 0. 0. 1. 0. 1. 0. 0. 0. 0. 0. 0. 0. 1. 0. 0. 1. 0. 1. 1.\n",
      "  0. 0. 1. 0. 0. 0.]\n",
      " [0. 0. 1. 0. 0. 0. 0. 1. 1. 1. 0. 1. 0. 1. 1. 0. 1. 0. 1. 0. 0. 1. 0. 0.\n",
      "  0. 1. 0. 1. 1. 0.]\n",
      " [1. 0. 0. 1. 0. 0. 0. 0. 1. 1. 1. 0. 0. 1. 1. 1. 1. 0. 0. 0. 0. 0. 0. 1.\n",
      "  1. 0. 0. 0. 0. 1.]\n",
      " [0. 1. 0. 0. 1. 0. 1. 1. 1. 0. 1. 0. 0. 0. 0. 0. 1. 0. 0. 1. 0. 0. 0. 1.\n",
      "  0. 0. 0. 0. 1. 0.]\n",
      " [1. 0. 0. 1. 1. 0. 0. 0. 1. 0. 0. 1. 0. 1. 1. 1. 1. 1. 0. 1. 0. 0. 1. 0.\n",
      "  0. 1. 1. 0. 0. 0.]\n",
      " [0. 1. 0. 1. 1. 1. 1. 0. 0. 0. 0. 0. 0. 1. 0. 0. 0. 0. 1. 1. 1. 0. 0. 0.\n",
      "  0. 0. 1. 1. 0. 0.]\n",
      " [0. 1. 0. 0. 1. 1. 0. 1. 1. 0. 0. 1. 1. 0. 0. 0. 1. 0. 0. 0. 0. 1. 1. 0.\n",
      "  0. 0. 1. 0. 0. 0.]\n",
      " [0. 1. 0. 0. 0. 0. 1. 1. 1. 0. 0. 0. 0. 0. 0. 0. 0. 1. 0. 0. 0. 0. 0. 0.\n",
      "  0. 1. 1. 1. 1. 1.]\n",
      " [0. 0. 0. 0. 0. 0. 1. 1. 1. 0. 0. 1. 1. 0. 0. 0. 0. 1. 0. 1. 1. 0. 1. 1.\n",
      "  1. 1. 0. 1. 0. 0.]\n",
      " [0. 0. 0. 0. 0. 0. 0. 1. 1. 1. 0. 0. 0. 0. 0. 1. 0. 0. 1. 0. 0. 1. 0. 0.\n",
      "  0. 1. 0. 0. 1. 1.]\n",
      " [0. 0. 0. 0. 1. 1. 0. 1. 0. 0. 0. 1. 0. 0. 0. 0. 1. 0. 0. 1. 0. 0. 0. 1.\n",
      "  0. 0. 0. 0. 1. 0.]\n",
      " [0. 0. 0. 1. 1. 0. 0. 0. 1. 0. 1. 0. 0. 1. 0. 0. 1. 1. 1. 0. 1. 0. 0. 0.\n",
      "  0. 1. 0. 1. 0. 0.]\n",
      " [1. 1. 1. 0. 1. 1. 1. 1. 0. 0. 0. 0. 0. 0. 0. 0. 0. 0. 0. 1. 1. 0. 0. 1.\n",
      "  0. 0. 0. 0. 1. 0.]\n",
      " [1. 0. 0. 0. 0. 0. 0. 0. 0. 0. 1. 1. 1. 0. 0. 0. 0. 1. 0. 0. 1. 0. 0. 0.\n",
      "  0. 0. 1. 0. 0. 1.]\n",
      " [1. 0. 0. 0. 0. 0. 0. 0. 1. 0. 1. 0. 1. 1. 0. 0. 0. 0. 0. 0. 1. 0. 0. 1.\n",
      "  0. 0. 1. 0. 0. 0.]\n",
      " [1. 0. 0. 0. 0. 1. 0. 0. 1. 0. 1. 0. 0. 0. 1. 0. 0. 1. 1. 0. 1. 0. 0. 0.\n",
      "  1. 0. 0. 0. 1. 0.]\n",
      " [1. 0. 1. 1. 0. 0. 1. 0. 0. 0. 0. 0. 1. 0. 1. 0. 0. 0. 1. 0. 0. 0. 0. 0.\n",
      "  0. 0. 0. 1. 0. 0.]\n",
      " [1. 0. 0. 1. 0. 0. 0. 1. 0. 0. 0. 0. 0. 0. 0. 1. 0. 0. 1. 0. 0. 0. 0. 0.\n",
      "  0. 1. 0. 1. 0. 0.]\n",
      " [0. 0. 1. 0. 0. 0. 1. 0. 0. 0. 0. 1. 1. 1. 0. 0. 0. 0. 0. 0. 0. 0. 1. 1.\n",
      "  1. 1. 0. 0. 1. 0.]\n",
      " [0. 0. 0. 0. 0. 0. 0. 0. 0. 0. 0. 0. 0. 0. 1. 0. 0. 0. 1. 0. 0. 0. 1. 0.\n",
      "  0. 0. 1. 0. 0. 0.]\n",
      " [0. 1. 0. 0. 0. 1. 0. 0. 1. 1. 0. 1. 0. 0. 1. 0. 1. 1. 0. 0. 0. 0. 0. 0.\n",
      "  0. 0. 1. 0. 0. 0.]\n",
      " [0. 0. 0. 0. 0. 1. 0. 1. 1. 0. 0. 0. 0. 1. 0. 0. 1. 0. 0. 0. 0. 1. 0. 0.\n",
      "  1. 0. 0. 0. 1. 1.]\n",
      " [0. 1. 0. 0. 0. 0. 0. 0. 0. 1. 0. 0. 1. 0. 1. 0. 1. 1. 0. 1. 1. 0. 0. 0.\n",
      "  0. 0. 0. 0. 0. 0.]\n",
      " [0. 0. 0. 0. 1. 0. 1. 1. 0. 0. 0. 0. 1. 0. 0. 0. 1. 0. 0. 1. 1. 0. 0. 0.\n",
      "  0. 1. 0. 0. 0. 0.]\n",
      " [0. 0. 1. 0. 0. 0. 0. 1. 1. 0. 0. 0. 0. 1. 0. 1. 1. 0. 0. 0. 1. 0. 1. 0.\n",
      "  0. 1. 1. 0. 0. 0.]\n",
      " [0. 1. 0. 0. 0. 1. 0. 1. 0. 1. 0. 0. 0. 0. 0. 0. 1. 1. 1. 0. 0. 0. 0. 0.\n",
      "  0. 0. 0. 0. 0. 1.]\n",
      " [0. 0. 1. 0. 0. 0. 0. 1. 0. 1. 0. 0. 1. 0. 0. 1. 0. 0. 0. 0. 0. 1. 1. 1.\n",
      "  0. 1. 1. 1. 0. 0.]\n",
      " [0. 0. 1. 0. 0. 0. 0. 1. 0. 0. 0. 1. 1. 0. 1. 0. 0. 0. 1. 0. 0. 1. 0. 1.\n",
      "  1. 0. 1. 0. 0. 0.]\n",
      " [0. 1. 0. 0. 0. 0. 0. 0. 0. 0. 0. 0. 1. 1. 1. 0. 0. 1. 1. 1. 0. 0. 1. 0.\n",
      "  1. 0. 0. 1. 1. 0.]]\n"
     ]
    },
    {
     "data": {
      "image/png": "[encoded data removed]",
      "text/plain": [
       "<Figure size 1080x720 with 1 Axes>"
      ]
     },
     "metadata": {},
     "output_type": "display_data"
    }
   ],
   "source": [
    "tiling = Tiling(_random=True)\n",
    "tiling.PrepareCoverage()\n",
    "#tiling.SetCoverage(testarray)\n",
    "tiling.ShowCoverage()\n"
   ]
  },
  {
   "cell_type": "code",
   "execution_count": 131,
   "metadata": {
    "scrolled": false
   },
   "outputs": [
    {
     "name": "stdout",
     "output_type": "stream",
     "text": [
      "Finding the optimum tiling...\n",
      "Current partial solution:  []\n",
      "Array is not empty...\n",
      "Working with row  1\n",
      "Colums solved  [0 3 6]\n",
      "Rows that solve these columns  [1 3 4 5]\n",
      "Reduced array  [[0. 1. 1. 1.]\n",
      " [1. 1. 0. 1.]]\n",
      "Finding the optimum tiling...\n",
      "Current partial solution:  [1]\n",
      "Array is not empty...\n",
      "Working with row  2\n",
      "Colums solved  [0 1 3]\n",
      "Rows that solve these columns  [0 1]\n",
      "Reduced array  []\n",
      "Finding the optimum tiling...\n",
      "Current partial solution:  [1, 2]\n",
      "Array is not empty...\n",
      "Solution does not exist!\n",
      "\n",
      "\n",
      "\n",
      "Working with row  3\n",
      "Colums solved  [0 3]\n",
      "Rows that solve these columns  [1 3 5]\n",
      "Reduced array  [[0. 1. 1. 1. 0.]\n",
      " [1. 1. 0. 1. 0.]\n",
      " [1. 0. 0. 0. 1.]]\n",
      "Finding the optimum tiling...\n",
      "Current partial solution:  [3]\n",
      "Array is not empty...\n",
      "Working with row  0\n",
      "Colums solved  [1 2 3]\n",
      "Rows that solve these columns  [0 1]\n",
      "Reduced array  [[1. 1.]]\n",
      "Finding the optimum tiling...\n",
      "Current partial solution:  [3, 0]\n",
      "Array is not empty...\n",
      "Working with row  4\n",
      "Colums solved  [0 1]\n",
      "Rows that solve these columns  [0]\n",
      "Reduced array  []\n",
      "Finding the optimum tiling...\n",
      "Current partial solution:  [3, 0, 4]\n",
      "Array is not empty...\n"
     ]
    },
    {
     "ename": "ValueError",
     "evalue": "zero-size array to reduction operation minimum which has no identity",
     "output_type": "error",
     "traceback": [
      "\u001b[0;31m---------------------------------------------------------------------------\u001b[0m",
      "\u001b[0;31mValueError\u001b[0m                                Traceback (most recent call last)",
      "\u001b[0;32m<ipython-input-131-8a643f1bbcc3>\u001b[0m in \u001b[0;36m<module>\u001b[0;34m()\u001b[0m\n\u001b[0;32m----> 1\u001b[0;31m \u001b[0mtiling\u001b[0m\u001b[0;34m.\u001b[0m\u001b[0mSolve\u001b[0m\u001b[0;34m(\u001b[0m\u001b[0mtestarray\u001b[0m\u001b[0;34m,\u001b[0m \u001b[0mtiling\u001b[0m\u001b[0;34m.\u001b[0m\u001b[0mcolumnids\u001b[0m\u001b[0;34m,\u001b[0m \u001b[0mtiling\u001b[0m\u001b[0;34m.\u001b[0m\u001b[0mrowids\u001b[0m\u001b[0;34m)\u001b[0m\u001b[0;34m\u001b[0m\u001b[0m\n\u001b[0m",
      "\u001b[0;32m<ipython-input-125-47ebfcad4c82>\u001b[0m in \u001b[0;36mSolve\u001b[0;34m(self, array, columnids, rowids)\u001b[0m\n\u001b[1;32m     92\u001b[0m \u001b[0;34m\u001b[0m\u001b[0m\n\u001b[1;32m     93\u001b[0m                 \u001b[0mprint\u001b[0m\u001b[0;34m(\u001b[0m\u001b[0;34m\"Reduced array \"\u001b[0m\u001b[0;34m,\u001b[0m \u001b[0mreduced\u001b[0m\u001b[0;34m)\u001b[0m\u001b[0;34m\u001b[0m\u001b[0m\n\u001b[0;32m---> 94\u001b[0;31m                 \u001b[0mself\u001b[0m\u001b[0;34m.\u001b[0m\u001b[0mSolve\u001b[0m\u001b[0;34m(\u001b[0m\u001b[0mreduced\u001b[0m\u001b[0;34m,\u001b[0m \u001b[0mreducedcolumnids\u001b[0m\u001b[0;34m.\u001b[0m\u001b[0mcopy\u001b[0m\u001b[0;34m(\u001b[0m\u001b[0;34m)\u001b[0m\u001b[0;34m,\u001b[0m \u001b[0mreducedrowids\u001b[0m\u001b[0;34m.\u001b[0m\u001b[0mcopy\u001b[0m\u001b[0;34m(\u001b[0m\u001b[0;34m)\u001b[0m\u001b[0;34m)\u001b[0m\u001b[0;34m\u001b[0m\u001b[0m\n\u001b[0m\u001b[1;32m     95\u001b[0m \u001b[0;34m\u001b[0m\u001b[0m\n\u001b[1;32m     96\u001b[0m                 \u001b[0;32mif\u001b[0m \u001b[0mself\u001b[0m\u001b[0;34m.\u001b[0m\u001b[0msolution\u001b[0m\u001b[0;34m:\u001b[0m\u001b[0;34m\u001b[0m\u001b[0m\n",
      "\u001b[0;32m<ipython-input-125-47ebfcad4c82>\u001b[0m in \u001b[0;36mSolve\u001b[0;34m(self, array, columnids, rowids)\u001b[0m\n\u001b[1;32m     92\u001b[0m \u001b[0;34m\u001b[0m\u001b[0m\n\u001b[1;32m     93\u001b[0m                 \u001b[0mprint\u001b[0m\u001b[0;34m(\u001b[0m\u001b[0;34m\"Reduced array \"\u001b[0m\u001b[0;34m,\u001b[0m \u001b[0mreduced\u001b[0m\u001b[0;34m)\u001b[0m\u001b[0;34m\u001b[0m\u001b[0m\n\u001b[0;32m---> 94\u001b[0;31m                 \u001b[0mself\u001b[0m\u001b[0;34m.\u001b[0m\u001b[0mSolve\u001b[0m\u001b[0;34m(\u001b[0m\u001b[0mreduced\u001b[0m\u001b[0;34m,\u001b[0m \u001b[0mreducedcolumnids\u001b[0m\u001b[0;34m.\u001b[0m\u001b[0mcopy\u001b[0m\u001b[0;34m(\u001b[0m\u001b[0;34m)\u001b[0m\u001b[0;34m,\u001b[0m \u001b[0mreducedrowids\u001b[0m\u001b[0;34m.\u001b[0m\u001b[0mcopy\u001b[0m\u001b[0;34m(\u001b[0m\u001b[0;34m)\u001b[0m\u001b[0;34m)\u001b[0m\u001b[0;34m\u001b[0m\u001b[0m\n\u001b[0m\u001b[1;32m     95\u001b[0m \u001b[0;34m\u001b[0m\u001b[0m\n\u001b[1;32m     96\u001b[0m                 \u001b[0;32mif\u001b[0m \u001b[0mself\u001b[0m\u001b[0;34m.\u001b[0m\u001b[0msolution\u001b[0m\u001b[0;34m:\u001b[0m\u001b[0;34m\u001b[0m\u001b[0m\n",
      "\u001b[0;32m<ipython-input-125-47ebfcad4c82>\u001b[0m in \u001b[0;36mSolve\u001b[0;34m(self, array, columnids, rowids)\u001b[0m\n\u001b[1;32m     92\u001b[0m \u001b[0;34m\u001b[0m\u001b[0m\n\u001b[1;32m     93\u001b[0m                 \u001b[0mprint\u001b[0m\u001b[0;34m(\u001b[0m\u001b[0;34m\"Reduced array \"\u001b[0m\u001b[0;34m,\u001b[0m \u001b[0mreduced\u001b[0m\u001b[0;34m)\u001b[0m\u001b[0;34m\u001b[0m\u001b[0m\n\u001b[0;32m---> 94\u001b[0;31m                 \u001b[0mself\u001b[0m\u001b[0;34m.\u001b[0m\u001b[0mSolve\u001b[0m\u001b[0;34m(\u001b[0m\u001b[0mreduced\u001b[0m\u001b[0;34m,\u001b[0m \u001b[0mreducedcolumnids\u001b[0m\u001b[0;34m.\u001b[0m\u001b[0mcopy\u001b[0m\u001b[0;34m(\u001b[0m\u001b[0;34m)\u001b[0m\u001b[0;34m,\u001b[0m \u001b[0mreducedrowids\u001b[0m\u001b[0;34m.\u001b[0m\u001b[0mcopy\u001b[0m\u001b[0;34m(\u001b[0m\u001b[0;34m)\u001b[0m\u001b[0;34m)\u001b[0m\u001b[0;34m\u001b[0m\u001b[0m\n\u001b[0m\u001b[1;32m     95\u001b[0m \u001b[0;34m\u001b[0m\u001b[0m\n\u001b[1;32m     96\u001b[0m                 \u001b[0;32mif\u001b[0m \u001b[0mself\u001b[0m\u001b[0;34m.\u001b[0m\u001b[0msolution\u001b[0m\u001b[0;34m:\u001b[0m\u001b[0;34m\u001b[0m\u001b[0m\n",
      "\u001b[0;32m<ipython-input-125-47ebfcad4c82>\u001b[0m in \u001b[0;36mSolve\u001b[0;34m(self, array, columnids, rowids)\u001b[0m\n\u001b[1;32m     71\u001b[0m \u001b[0;34m\u001b[0m\u001b[0m\n\u001b[1;32m     72\u001b[0m \u001b[0;34m\u001b[0m\u001b[0m\n\u001b[0;32m---> 73\u001b[0;31m             \u001b[0mmincolumns\u001b[0m \u001b[0;34m=\u001b[0m \u001b[0mnp\u001b[0m\u001b[0;34m.\u001b[0m\u001b[0mwhere\u001b[0m\u001b[0;34m(\u001b[0m\u001b[0mcolumnsum\u001b[0m \u001b[0;34m==\u001b[0m \u001b[0mnp\u001b[0m\u001b[0;34m.\u001b[0m\u001b[0mmin\u001b[0m\u001b[0;34m(\u001b[0m\u001b[0mcolumnsum\u001b[0m\u001b[0;34m)\u001b[0m\u001b[0;34m)\u001b[0m\u001b[0;34m[\u001b[0m\u001b[0;36m0\u001b[0m\u001b[0;34m]\u001b[0m\u001b[0;34m\u001b[0m\u001b[0m\n\u001b[0m\u001b[1;32m     74\u001b[0m             \u001b[0mchoosecolumn\u001b[0m \u001b[0;34m=\u001b[0m \u001b[0mmincolumns\u001b[0m\u001b[0;34m[\u001b[0m\u001b[0;36m0\u001b[0m\u001b[0;34m]\u001b[0m\u001b[0;34m\u001b[0m\u001b[0m\n\u001b[1;32m     75\u001b[0m             \u001b[0mrows\u001b[0m \u001b[0;34m=\u001b[0m \u001b[0mnp\u001b[0m\u001b[0;34m.\u001b[0m\u001b[0mwhere\u001b[0m\u001b[0;34m(\u001b[0m\u001b[0marray\u001b[0m\u001b[0;34m[\u001b[0m\u001b[0;34m:\u001b[0m\u001b[0;34m,\u001b[0m \u001b[0mchoosecolumn\u001b[0m\u001b[0;34m]\u001b[0m \u001b[0;34m==\u001b[0m \u001b[0;36m1\u001b[0m\u001b[0;34m)\u001b[0m\u001b[0;34m[\u001b[0m\u001b[0;36m0\u001b[0m\u001b[0;34m]\u001b[0m\u001b[0;34m\u001b[0m\u001b[0m\n",
      "\u001b[0;32m~/anaconda3/lib/python3.6/site-packages/numpy/core/fromnumeric.py\u001b[0m in \u001b[0;36mamin\u001b[0;34m(a, axis, out, keepdims)\u001b[0m\n\u001b[1;32m   2418\u001b[0m \u001b[0;34m\u001b[0m\u001b[0m\n\u001b[1;32m   2419\u001b[0m     return _methods._amin(a, axis=axis,\n\u001b[0;32m-> 2420\u001b[0;31m                           out=out, **kwargs)\n\u001b[0m\u001b[1;32m   2421\u001b[0m \u001b[0;34m\u001b[0m\u001b[0m\n\u001b[1;32m   2422\u001b[0m \u001b[0;34m\u001b[0m\u001b[0m\n",
      "\u001b[0;32m~/anaconda3/lib/python3.6/site-packages/numpy/core/_methods.py\u001b[0m in \u001b[0;36m_amin\u001b[0;34m(a, axis, out, keepdims)\u001b[0m\n\u001b[1;32m     27\u001b[0m \u001b[0;34m\u001b[0m\u001b[0m\n\u001b[1;32m     28\u001b[0m \u001b[0;32mdef\u001b[0m \u001b[0m_amin\u001b[0m\u001b[0;34m(\u001b[0m\u001b[0ma\u001b[0m\u001b[0;34m,\u001b[0m \u001b[0maxis\u001b[0m\u001b[0;34m=\u001b[0m\u001b[0;32mNone\u001b[0m\u001b[0;34m,\u001b[0m \u001b[0mout\u001b[0m\u001b[0;34m=\u001b[0m\u001b[0;32mNone\u001b[0m\u001b[0;34m,\u001b[0m \u001b[0mkeepdims\u001b[0m\u001b[0;34m=\u001b[0m\u001b[0;32mFalse\u001b[0m\u001b[0;34m)\u001b[0m\u001b[0;34m:\u001b[0m\u001b[0;34m\u001b[0m\u001b[0m\n\u001b[0;32m---> 29\u001b[0;31m     \u001b[0;32mreturn\u001b[0m \u001b[0mumr_minimum\u001b[0m\u001b[0;34m(\u001b[0m\u001b[0ma\u001b[0m\u001b[0;34m,\u001b[0m \u001b[0maxis\u001b[0m\u001b[0;34m,\u001b[0m \u001b[0;32mNone\u001b[0m\u001b[0;34m,\u001b[0m \u001b[0mout\u001b[0m\u001b[0;34m,\u001b[0m \u001b[0mkeepdims\u001b[0m\u001b[0;34m)\u001b[0m\u001b[0;34m\u001b[0m\u001b[0m\n\u001b[0m\u001b[1;32m     30\u001b[0m \u001b[0;34m\u001b[0m\u001b[0m\n\u001b[1;32m     31\u001b[0m \u001b[0;32mdef\u001b[0m \u001b[0m_sum\u001b[0m\u001b[0;34m(\u001b[0m\u001b[0ma\u001b[0m\u001b[0;34m,\u001b[0m \u001b[0maxis\u001b[0m\u001b[0;34m=\u001b[0m\u001b[0;32mNone\u001b[0m\u001b[0;34m,\u001b[0m \u001b[0mdtype\u001b[0m\u001b[0;34m=\u001b[0m\u001b[0;32mNone\u001b[0m\u001b[0;34m,\u001b[0m \u001b[0mout\u001b[0m\u001b[0;34m=\u001b[0m\u001b[0;32mNone\u001b[0m\u001b[0;34m,\u001b[0m \u001b[0mkeepdims\u001b[0m\u001b[0;34m=\u001b[0m\u001b[0;32mFalse\u001b[0m\u001b[0;34m)\u001b[0m\u001b[0;34m:\u001b[0m\u001b[0;34m\u001b[0m\u001b[0m\n",
      "\u001b[0;31mValueError\u001b[0m: zero-size array to reduction operation minimum which has no identity"
     ]
    }
   ],
   "source": [
    "tiling.Solve(testarray, tiling.columnids, tiling.rowids)"
   ]
  },
  {
   "cell_type": "code",
   "execution_count": null,
   "metadata": {},
   "outputs": [],
   "source": [
    "column_sums = np.sum(testarray[:, 1:], axis=0)\n",
    "print(column_sums)\n",
    "columns = np.where(column_sums == np.amin(column_sums))[0]\n",
    "print(columns)\n",
    "print(columns[0])\n",
    "\n",
    "rows = np.where(testarray[:, columns[0] + 1] == 1)[0]\n",
    "\n",
    "print(rows)\n",
    "\n",
    "for row in rows:\n",
    "    print(\"Looking at row %d now...\" % row)\n",
    "    solvedcolumns = np.where(testarray[row, 1:] == 1)[0] + 1\n",
    "    print(\"Solved columns\", solvedcolumns)\n",
    "\n",
    "    solvingrows = np.unique(np.where(testarray[:, solvedcolumns] == 1)[0])\n",
    "    print(\"Solving rows\", solvingrows)\n",
    "    \n",
    "    tmp = np.delete(testarray, solvedcolumns, axis=1)\n",
    "    tmp2 = np.delete(tmp, solvingrows, axis=0)\n",
    "    \n",
    "    solution = np.delete(np.delete(testarray, solvedcolumns, axis=1), solvingrows, axis=0)\n",
    "    \n",
    "print(tmp2)\n",
    "print(solution)\n",
    "if 0 in column_sums:\n",
    "    print(\"Solution does not exist\")"
   ]
  },
  {
   "cell_type": "code",
   "execution_count": 28,
   "metadata": {},
   "outputs": [
    {
     "data": {
      "text/plain": [
       "array([2., 2., 2.])"
      ]
     },
     "execution_count": 28,
     "metadata": {},
     "output_type": "execute_result"
    }
   ],
   "source": [
    "testarray = np.ones((2,3))\n",
    "np.sum(testarray, axis=0)"
   ]
  },
  {
   "cell_type": "code",
   "execution_count": 31,
   "metadata": {},
   "outputs": [
    {
     "data": {
      "text/plain": [
       "array([0., 0., 0.])"
      ]
     },
     "execution_count": 31,
     "metadata": {},
     "output_type": "execute_result"
    }
   ],
   "source": [
    "np.sum(np.delete(testarray, [0, 1], axis=0), axis=0)"
   ]
  },
  {
   "cell_type": "code",
   "execution_count": 90,
   "metadata": {},
   "outputs": [
    {
     "name": "stdout",
     "output_type": "stream",
     "text": [
      "[0, 1, 2, 3]\n",
      "[0, 1, 2, 3, 4]\n",
      "[0, 1, 2, 3]\n"
     ]
    },
    {
     "ename": "AttributeError",
     "evalue": "'list' object has no attribute 'empty'",
     "output_type": "error",
     "traceback": [
      "\u001b[0;31m---------------------------------------------------------------------------\u001b[0m",
      "\u001b[0;31mAttributeError\u001b[0m                            Traceback (most recent call last)",
      "\u001b[0;32m<ipython-input-90-568b20758a3e>\u001b[0m in \u001b[0;36m<module>\u001b[0;34m()\u001b[0m\n\u001b[1;32m      5\u001b[0m \u001b[0mmylist\u001b[0m\u001b[0;34m.\u001b[0m\u001b[0mpop\u001b[0m\u001b[0;34m(\u001b[0m\u001b[0;34m)\u001b[0m\u001b[0;34m\u001b[0m\u001b[0m\n\u001b[1;32m      6\u001b[0m \u001b[0mprint\u001b[0m\u001b[0;34m(\u001b[0m\u001b[0mmylist\u001b[0m\u001b[0;34m)\u001b[0m\u001b[0;34m\u001b[0m\u001b[0m\n\u001b[0;32m----> 7\u001b[0;31m \u001b[0mprint\u001b[0m\u001b[0;34m(\u001b[0m\u001b[0mmylist\u001b[0m\u001b[0;34m.\u001b[0m\u001b[0mempty\u001b[0m\u001b[0;34m(\u001b[0m\u001b[0;34m)\u001b[0m\u001b[0;34m)\u001b[0m\u001b[0;34m\u001b[0m\u001b[0m\n\u001b[0m",
      "\u001b[0;31mAttributeError\u001b[0m: 'list' object has no attribute 'empty'"
     ]
    }
   ],
   "source": [
    "mylist = [0, 1, 2, 3]\n",
    "print(mylist)\n",
    "mylist.append(4)\n",
    "print(mylist)\n",
    "mylist.pop()\n",
    "print(mylist)\n",
    "print(mylist.empty())"
   ]
  },
  {
   "cell_type": "code",
   "execution_count": null,
   "metadata": {},
   "outputs": [],
   "source": []
  }
 ],
 "metadata": {
  "kernelspec": {
   "display_name": "Python 3",
   "language": "python",
   "name": "python3"
  },
  "language_info": {
   "codemirror_mode": {
    "name": "ipython",
    "version": 3
   },
   "file_extension": ".py",
   "mimetype": "text/x-python",
   "name": "python",
   "nbconvert_exporter": "python",
   "pygments_lexer": "ipython3",
   "version": "3.6.5"
  }
 },
 "nbformat": 4,
 "nbformat_minor": 2
}
